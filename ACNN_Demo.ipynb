{
  "nbformat": 4,
  "nbformat_minor": 0,
  "metadata": {
    "colab": {
      "provenance": []
    },
    "kernelspec": {
      "name": "python3",
      "display_name": "Python 3"
    },
    "language_info": {
      "name": "python"
    }
  },
  "cells": [
    {
      "cell_type": "code",
      "execution_count": 60,
      "metadata": {
        "id": "LaQ13Bx65uWR"
      },
      "outputs": [],
      "source": [
        "!pip install -q gradio\n",
        "import tensorflow as tf\n",
        "import gradio as gr\n",
        "import numpy as np\n",
        "import cv2\n",
        "\n",
        "model = tf.keras.models.load_model('model_9574.keras')\n",
        "\n",
        "def classify_image(img):\n",
        "  img = cv2.resize(img, (32,32))\n",
        "  for_predicting = np.expand_dims(img, axis = 0)\n",
        "  for_predicting = img.reshape(1, 32, 32, 3)\n",
        "  prediction = model.predict(for_predicting)\n",
        "  if prediction[0][0] > 0.5:\n",
        "    label = 'Real'\n",
        "  else:\n",
        "    label = 'AI Generated'\n",
        "  return label, prediction[0][0]"
      ]
    },
    {
      "cell_type": "code",
      "source": [
        "gr.Interface(fn=classify_image,\n",
        "             inputs=gr.Image(height = 256),\n",
        "             outputs=[gr.Text(label = 'Classification'),\n",
        "                      gr.Number(label = 'Probability Score:')],\n",
        "             examples=[\"seal_real.jpg\", \"seal_ai.jpg\"],\n",
        "             title = \"AI Image Detector Prototype\",\n",
        "             description = \"Sample Real Image from: https://www.pbs.org/wnet/nature/blog/seal-fact-sheet/ | Sample AI Generated Image from Meta A\").launch(debug=True)"
      ],
      "metadata": {
        "colab": {
          "base_uri": "https://localhost:8080/",
          "height": 760
        },
        "id": "Gl4BZX1a76sS",
        "outputId": "cbb14feb-d451-4992-8829-300f85422368"
      },
      "execution_count": 68,
      "outputs": [
        {
          "output_type": "stream",
          "name": "stdout",
          "text": [
            "It looks like you are running Gradio on a hosted a Jupyter notebook. For the Gradio app to work, sharing must be enabled. Automatically setting `share=True` (you can turn this off by setting `share=False` in `launch()` explicitly).\n",
            "\n",
            "Colab notebook detected. This cell will run indefinitely so that you can see errors and logs. To turn off, set debug=False in launch().\n",
            "* Running on public URL: https://c825677eb2c8fa1af4.gradio.live\n",
            "\n",
            "This share link expires in 1 week. For free permanent hosting and GPU upgrades, run `gradio deploy` from the terminal in the working directory to deploy to Hugging Face Spaces (https://huggingface.co/spaces)\n"
          ]
        },
        {
          "output_type": "display_data",
          "data": {
            "text/plain": [
              "<IPython.core.display.HTML object>"
            ],
            "text/html": [
              "<div><iframe src=\"https://c825677eb2c8fa1af4.gradio.live\" width=\"100%\" height=\"500\" allow=\"autoplay; camera; microphone; clipboard-read; clipboard-write;\" frameborder=\"0\" allowfullscreen></iframe></div>"
            ]
          },
          "metadata": {}
        },
        {
          "output_type": "stream",
          "name": "stdout",
          "text": [
            "\u001b[1m1/1\u001b[0m \u001b[32m━━━━━━━━━━━━━━━━━━━━\u001b[0m\u001b[37m\u001b[0m \u001b[1m0s\u001b[0m 47ms/step\n",
            "\u001b[1m1/1\u001b[0m \u001b[32m━━━━━━━━━━━━━━━━━━━━\u001b[0m\u001b[37m\u001b[0m \u001b[1m0s\u001b[0m 63ms/step\n",
            "\u001b[1m1/1\u001b[0m \u001b[32m━━━━━━━━━━━━━━━━━━━━\u001b[0m\u001b[37m\u001b[0m \u001b[1m0s\u001b[0m 43ms/step\n",
            "\u001b[1m1/1\u001b[0m \u001b[32m━━━━━━━━━━━━━━━━━━━━\u001b[0m\u001b[37m\u001b[0m \u001b[1m0s\u001b[0m 50ms/step\n",
            "Keyboard interruption in main thread... closing server.\n",
            "Killing tunnel 127.0.0.1:7867 <> https://c825677eb2c8fa1af4.gradio.live\n"
          ]
        },
        {
          "output_type": "execute_result",
          "data": {
            "text/plain": []
          },
          "metadata": {},
          "execution_count": 68
        }
      ]
    }
  ]
}